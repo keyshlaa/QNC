{
  "cells": [
    {
      "cell_type": "markdown",
      "metadata": {
        "id": "bBlR-_ldbMUI"
      },
      "source": [
        "[![Open In Colab](https://colab.research.google.com/assets/colab-badge.svg)](https://colab.research.google.com/github/PennNGG/Quantitative-Neuroscience/blob/master/Hypothesis%20Testing/Python/t%2dTests.ipynb)"
      ]
    },
    {
      "cell_type": "markdown",
      "metadata": {
        "id": "pKIiY6p3GRFq"
      },
      "source": [
        "# Definitions"
      ]
    },
    {
      "cell_type": "markdown",
      "metadata": {
        "id": "x7VmLUr5GTNw"
      },
      "source": [
        "A t-test is a parametric statistical hypothesis test in which the Null hypothesis is defined in terms of a [Student's *t* distribution](https://colab.research.google.com/drive/1Q_Du5NK71Rc1qu-byh8dy8Fs39uvR_4n?usp=sharing). The main assumptions of the *t* test that you typically need to worry about are that the data are randomly sampled from a population and  are normally distributed.\n",
        "\n",
        "There are three basic types of t-tests, detailed below."
      ]
    },
    {
      "cell_type": "markdown",
      "metadata": {
        "id": "5ULZKAuOBol4"
      },
      "source": [
        "\n",
        "# Getting started with code"
      ]
    },
    {
      "cell_type": "markdown",
      "metadata": {
        "id": "S57swuS-BwVO"
      },
      "source": [
        "Matlab code is found in the [NGG Statistics GitHub Repository](https://github.com/PennNGG/Statistics.git) under \"Hypothesis Testing/tTest.m\" and \"Hypothesis Testing/tTestDemo.m\".\n",
        "\n",
        "Python code is included below. First run the code cell just below to make sure all of the required Python modules are loaded, then you can run the other cell(s)."
      ]
    },
    {
      "cell_type": "code",
      "execution_count": 1,
      "metadata": {
        "id": "CjqTNogqBtUX"
      },
      "outputs": [],
      "source": [
        "import numpy as np\n",
        "import scipy.stats as st\n",
        "import matplotlib.pyplot as plt\n",
        "from IPython.display import display, clear_output"
      ]
    },
    {
      "cell_type": "markdown",
      "metadata": {
        "id": "nvmWeSSHSF95"
      },
      "source": [
        "# One-sample t-test"
      ]
    },
    {
      "cell_type": "markdown",
      "metadata": {
        "id": "bki88QRVSaj8"
      },
      "source": [
        "For a one-sample test, you are comparing the mean of your sample to a fixed value. Here we compute the t-statistic from your sample $X$ as described here:\n",
        "\n",
        "$\\quad t=\\frac{\\bar{X}-\\mu}{S/\\sqrt{n}}$, where $S=\\sqrt{\\frac{1}{n-1}\\sum^n_{i-1}(X_i-\\bar{X})^2}$\n",
        "\n",
        "Where $\\mu$ is the mean of the Null distribution (i.e., the value you are comparing your sample to). The *t*-test for $H_0:mean=\\mu$ is just the probability of obtaining the value of your test statistic *t*, given the Student's *t* distribution with $(n–1)$ degrees of freedom.\n",
        "\n",
        "Below is some code computing the *t*-statistic and associated *p*-values as above or using python scipy tools."
      ]
    },
    {
      "cell_type": "code",
      "execution_count": 4,
      "metadata": {
        "colab": {
          "base_uri": "https://localhost:8080/"
        },
        "id": "NDfcV21FJ7v0",
        "outputId": "f5651ccf-f4fc-48d5-9e77-52e60a803b70"
      },
      "outputs": [
        {
          "output_type": "stream",
          "name": "stdout",
          "text": [
            "t = 5.5716 (computed) 5.5716 (from ttest_1samp)\n",
            "p = 0.0003 (computed) 0.0003 (from ttest_1samp)\n"
          ]
        }
      ],
      "source": [
        "# Define the population distribution\n",
        "mu = 1\n",
        "sigma = 1\n",
        "\n",
        "# Get random samples\n",
        "N = 10\n",
        "X = np.random.normal(mu, sigma, N)\n",
        "\n",
        "# Compute the sample mean\n",
        "X_bar = X.mean()\n",
        "\n",
        "# Compute the sample std\n",
        "S_bar = np.sqrt((1/(N-1))*np.sum((X-X_bar)**2)) # same as S = X.std(ddof=1);\n",
        "\n",
        "# Compute the t-statistic \n",
        "t = X_bar*np.sqrt(N)/S_bar\n",
        "\n",
        "# The p-value is the probabilty of obtaining the t-statistic under the null \n",
        "# hypothesis; that is, 1 minus the cdf of the t-distribution, given n-1 degrees \n",
        "# of freedom (multiplied by two because we are looking at two symmetric tails)\n",
        "p = 2.*(1-st.t.cdf(t, N-1))\n",
        "\n",
        "# Compare to what we get from ttest_1samp\n",
        "tstat, pval = st.ttest_1samp(X, 0)\n",
        "\n",
        "print(f't = {t:.4f} (computed) {tstat:.4f} (from ttest_1samp)')\n",
        "print(f'p = {p:.4f} (computed) {pval:.4f} (from ttest_1samp)')"
      ]
    },
    {
      "cell_type": "markdown",
      "metadata": {
        "id": "zi0MK9x8OVcC"
      },
      "source": [
        "Here is a demo showing how the t-distribution evolves in a simple experiment as the sample size increases, when we have Gaussian-distributed data and want to use a one-sample t-test to determine if we can reject the Null hypothesis that the mean of the test distribution equals zero.\n",
        "\n",
        "A (slow) animation will play below, with four panels (listed bottom-to-top):\n",
        "\n",
        "1\\. The data-generating process: The dashed red curve shows the true generating process, which is a Gaussian distribution with mean=1, std=3. Data from one \"experiment\" are shown as a normalized histogram (blue bars) for each *n*. For comparison, the Null distribution (mean=0, std=3) is shown as the solid red curve. \n",
        "\n",
        "2\\. The distribution of means across many (now set to 10000) experiments: The dashed red curve shows the true distribution of means from the true data-generating process, with mean=1 and a standard error of the mean that decreases with increasing *n*. The distribution of means from the simulated experiments are shown as a normalized histogram (bars). For comparison, the distribution of means from the Null distribution is shown as the solid red curve. \n",
        "  \n",
        "3\\. The test statistic is the t-statistic, which we compute for each experiment using the equation shown above. The bars are a normalized histogram of this statistic across the simulated experiments. The dashed red line is the expected distribution of this statistic, given our (known) data-generating process. The solid red line is the expected distribution of the t-statistic if the Null hypothesis were true. The solid green line is the standard normal distribution (mean=0, std=1) -- note that the Null distribution quickly approaches the standard normal distribution as *n* increases. The vertical bar is the point at which 0.025 of the Null distribution is to the left of that point; i.e., the value of the test statistic that would correspond to (two-tailed) *p*=0.05.\n",
        "\n",
        "4\\. The probability of a \"hit\" (using a one-sample t-test to reject the null hypothesis when it should be rejected) as a function of the number of samples in each experiment.\n",
        "\n",
        "\n"
      ]
    },
    {
      "cell_type": "code",
      "execution_count": 3,
      "metadata": {
        "colab": {
          "base_uri": "https://localhost:8080/",
          "height": 730
        },
        "id": "-0fT2eoDOOaC",
        "outputId": "029c6eba-c412-4158-e9ba-26f7cb478a25"
      },
      "outputs": [
        {
          "output_type": "display_data",
          "data": {
            "text/plain": [
              "<Figure size 432x864 with 4 Axes>"
            ],
            "image/png": "[encoded data removed]"
          },
          "metadata": {
            "needs_background": "light"
          }
        }
      ],
      "source": [
        "# Define a test distribution with a population mean different than 0 and a std of >1\n",
        "test_mu  = 1\n",
        "test_std = 3\n",
        "\n",
        "# Null distribution\n",
        "null_mu  = 0\n",
        "null_std = test_std\n",
        "\n",
        "# Max number of samples\n",
        "max_n = 100\n",
        "\n",
        "# for histograms\n",
        "data_bin_size = 0.1\n",
        "data_bins = np.arange(-10-data_bin_size/2, 10+1.5*data_bin_size, data_bin_size)\n",
        "dax = (data_bins[1:] + data_bins[:-1])/2\n",
        "\n",
        "# for simulations \n",
        "num_experiments = 10000\n",
        "\n",
        "# Set up figure\n",
        "fig, axs = plt.subplots(4, 1, figsize=(6, 12))\n",
        "fig.subplots_adjust(hspace=0.4)\n",
        "\n",
        "# Simulate different sample sizes\n",
        "for n in np.arange(2, max_n):\n",
        "\n",
        "    # Clear figures\n",
        "    plt.axes(axs[1]).cla()\n",
        "    plt.axes(axs[2]).cla()\n",
        "    plt.axes(axs[3]).cla()\n",
        "\n",
        "    # Simulate multiple experiments\n",
        "    samples = np.random.normal(test_mu, test_std, (num_experiments, n))\n",
        "\n",
        "    # Compute the t-statistic from each experient\n",
        "    t_stats = samples.mean(axis=1)/samples.std(axis=1,ddof=1)*np.sqrt(n)\n",
        "\n",
        "    # Top plot is probability of identifying a real effect as a function of n\n",
        "    plt.axes(axs[0]).axis([0, max_n, 0, 1])\n",
        "    plt.plot(0, 0, 'ko')\n",
        "    plt.xlabel('n')\n",
        "    plt.ylabel('p(hit)')\n",
        "    plt.axes(axs[0]).plot(n, np.count_nonzero(t_stats>st.t.ppf(0.975, n-1))/num_experiments, 'k.', markersize=8)\n",
        "    plt.title(f'n={n}, mean of sigma={samples.std(axis=1, ddof=1).mean():.2f}')\n",
        "\n",
        "    # Second-to-top plot is normal, t distributions of mean, and samples\n",
        "    counts, edges = np.histogram(t_stats, data_bins)\n",
        "    plt.axes(axs[1]).bar(dax, np.divide(counts, np.trapz(counts, dax)), width=0.1)\n",
        "    plt.plot(dax, st.t.pdf(dax, n-1), 'r-', linewidth=2)\n",
        "    plt.plot(dax, st.t.pdf(dax-test_mu/test_std*np.sqrt(n), n-1), 'r--', linewidth=2)\n",
        "    plt.plot(dax, st.norm.pdf(dax, 0, 1), 'g-', linewidth=2)\n",
        "    plt.plot(st.t.ppf(0.975, n-1)*np.array([1.0, 1.0]), [0, 0.5], 'm-', linewidth=3)\n",
        "\n",
        "    # set/label axes\n",
        "    plt.axis([-4, 4, 0, 0.5])\n",
        "    plt.xlabel('Value (t units)')\n",
        "    plt.ylabel('probability')\n",
        "\n",
        "    # Second-to-bottom plot is distributions of means\n",
        "    counts, edges = np.histogram(samples.mean(axis=1), data_bins)\n",
        "    plt.axes(axs[2]).bar(dax, np.divide(counts, np.trapz(counts, dax)), width=0.1)\n",
        "    plt.plot(dax, st.norm.pdf(dax, null_mu, null_std/np.sqrt(n)), 'r-', linewidth=2)\n",
        "    plt.plot(dax, st.norm.pdf(dax, test_mu, test_std/np.sqrt(n)), 'r--', linewidth=2)\n",
        "\n",
        "    # set/label axes\n",
        "    plt.axis([-10, 10, 0, 1.5])\n",
        "    plt.xlabel('mean value (actual units)')\n",
        "    plt.ylabel('probability')      \n",
        "\n",
        "    # Bottom plot is null, test distributions. Show one 'experiment'\n",
        "    counts, edges = np.histogram(samples[0,:], bins=data_bins)\n",
        "    plt.axes(axs[3]).bar(dax, np.divide(counts, np.trapz(counts, dax)), width=0.1)\n",
        "    plt.plot(dax, st.norm.pdf(dax, null_mu, null_std), 'r-', linewidth=2)\n",
        "    plt.plot(dax, st.norm.pdf(dax, test_mu, test_std), 'r--', linewidth=2)\n",
        "\n",
        "    # set/label axes\n",
        "    plt.axis([-10, 10, 0, 0.25])\n",
        "    plt.xlabel('data value (actual units)')\n",
        "    plt.ylabel('probability')      \n",
        "\n",
        "    # Clear for next plot\n",
        "    display(fig)\n",
        "    clear_output(wait=True)"
      ]
    },
    {
      "cell_type": "markdown",
      "metadata": {
        "id": "To3hA26GKjv0"
      },
      "source": [
        "# Two-sample paired t-test\n"
      ]
    },
    {
      "cell_type": "markdown",
      "metadata": {
        "id": "QtK7ZyfjKojz"
      },
      "source": [
        "For a two-sample paired test, you are comparing the means of two samples representing data that have been collected in pairs and are assumed to have the same variances). Here we compute the *t*-statistic in terms of the distribution of differences $D$ between the paired samples\n",
        "$X$ and $Y$:\n",
        "\n",
        "$\\quad t=\\frac{\\bar{D}-\\mu}{S_D/\\sqrt{n}}$, where $D_i=X_i-Y_i$, and $S_D$ is the standard deviation of the difference, computed as above.\n",
        "\n",
        "We can then perform the equivalent one-sample *t*-test, as in the code below.\n"
      ]
    },
    {
      "cell_type": "code",
      "execution_count": 5,
      "metadata": {
        "colab": {
          "base_uri": "https://localhost:8080/",
          "height": 330
        },
        "id": "yjGigVEMLWMP",
        "outputId": "594bfc25-3e52-40f5-a557-272b9db0407a"
      },
      "outputs": [
        {
          "output_type": "display_data",
          "data": {
            "text/plain": [
              "<Figure size 432x288 with 1 Axes>"
            ],
            "image/png": "[encoded data removed]"
          },
          "metadata": {
            "needs_background": "light"
          }
        },
        {
          "output_type": "stream",
          "name": "stdout",
          "text": [
            "variance=0.2938 (computed), 0.2938 (python function)\n",
            "t = 5.3174 (computed) 5.3174 (python function)\n",
            "p = 0.0005 (computed) 0.0005 (python function)\n"
          ]
        }
      ],
      "source": [
        "# Define paired measurements in terms of a difference and then additive 0-mean noise\n",
        "mu          = 1\n",
        "sigma       = 1\n",
        "mu_diff     = 1\n",
        "mu_noise    = 0\n",
        "sigma_noise = 0.5\n",
        "\n",
        "# Get random samples\n",
        "N = 10\n",
        "X1 = np.random.normal(mu, sigma, N)\n",
        "X2 = X1 + mu_diff + np.random.normal(mu_noise, sigma_noise, N)\n",
        "\n",
        "# Compute the difference\n",
        "D = X2 - X1\n",
        "\n",
        "# Note that X1 and X2 are highly correlated (see figure), so the variance (or std) of the difference needs to take into account the covariance\n",
        "# var(X2 - X1) = cov(X2 - X1, X2 - X1)\n",
        "#              = cov(X2, X2) + cov(X1, X1) - cov(X2, X1) - cov(X1, X2)\n",
        "#              = var(X2) + var(X1) - cov(X2,X1) - cov(X1,X2)\n",
        "plt.plot(X1, X2, 'ko', markerfacecolor='k')\n",
        "plt.xlabel('X1')\n",
        "plt.ylabel('X2')\n",
        "plt.show()\n",
        "cov = np.cov(X1, X2)\n",
        "print(f'variance={cov[0,0]+cov[1,1]-cov[0,1]-cov[1,0]:.4f} (computed), {D.var(ddof=1):.4f} (python function)')\n",
        "\n",
        "# Compute the t-statistic \n",
        "t_D = D.mean()*np.sqrt(N)/D.std(ddof=1)\n",
        "\n",
        "# The p-value is the probabilty of obtaining the t-statistic under the null hypothesis; that is, 1 minus the cdf of the t-distribution, given n-1 degrees of freedom (multiplied by two because we are looking at two symmetric tails)\n",
        "p_D = 2.*(1-st.t.cdf(t_D, N-1))\n",
        "\n",
        "# Compare to what we get from ttest\n",
        "tstat, pval = st.ttest_1samp(D, 0)\n",
        "\n",
        "print(f't = {t_D:.4f} (computed) {tstat:.4f} (python function)')\n",
        "print(f'p = {p_D:.4f} (computed) {pval:.4f} (python function)')\n"
      ]
    },
    {
      "cell_type": "markdown",
      "metadata": {
        "id": "k_iBh6ZsLnX7"
      },
      "source": [
        "# Two-sample unpaired t-test\n"
      ]
    },
    {
      "cell_type": "markdown",
      "metadata": {
        "id": "clnBO4FU28El"
      },
      "source": [
        "For a two-sample unpaired test, we are comparing the means of two samples representing data that have been collected independently. There are several different ways of computing this test, depending on your assumptions and your data:\n",
        "\n",
        "1\\. When the two samples are of the same size (equal *n*) and are assumed to have the same variances (which you can and should [test](https://www.itl.nist.gov/div898/handbook/eda/section3/eda359.htm)), then the test statistic is:\n",
        "\n",
        "$\\quad t=\\frac{\\bar{X_1}-\\bar{X_2}}{S_p\\sqrt{\\frac{2}{n}}}$, where $S_p=\\sqrt{\\frac{S^2_{x_1}+S^2_{x_2}}{2}}$\n",
        "\n",
        "with $2n–2$ degrees of freedom. See code below for an example.\n",
        "\n",
        "2\\. When the two samples are not of the same size (unequal *n*) and are assumed to have the same variances (which you can and should [test](https://www.itl.nist.gov/div898/handbook/eda/section3/eda359.htm)), then the test statistic is:\n",
        "\n",
        "$\\quad t=\\frac{\\bar{X_1}-\\bar{X_2}}{S_p\\sqrt{\\frac{1}{n_1}+\\frac{1}{n_2}}}$, where $S_p=\\sqrt{\\frac{(n_1-1)S^2_{x_1}+(n_2-1)S^2_{x_2}}{n_1+n_2-2}}$\n",
        "\n",
        "with $n_1+n_2–2$ degrees of freedom.\n",
        "\n",
        "3\\. When the two samples are not of the same size (unequal *n*) and are not assumed to have the same variances, then you need to use an adaptation of the *t*-test known as Welch's *t*-test.\n",
        "\n"
      ]
    },
    {
      "cell_type": "code",
      "execution_count": 9,
      "metadata": {
        "colab": {
          "base_uri": "https://localhost:8080/"
        },
        "id": "vbhD1d9vOBCM",
        "outputId": "3da0a21c-ad0f-44b7-be9c-c0aea20bf04c"
      },
      "outputs": [
        {
          "output_type": "stream",
          "name": "stdout",
          "text": [
            "t = -1.7183 (computed) -1.7183 (python function)\n",
            "p = 0.1029 (computed) 0.1029 (python function)\n"
          ]
        }
      ],
      "source": [
        "# Define unpaired measurements, same sigma\n",
        "mu_1 = 1\n",
        "mu_2 = 2\n",
        "sigma = 1\n",
        "\n",
        "# Get random samples, same n\n",
        "N = 10\n",
        "X1 = np.random.normal(mu_1, sigma, N)\n",
        "X2 = np.random.normal(mu_2, sigma, N)\n",
        "\n",
        "# Compute test statistic\n",
        "Sp = np.sqrt((X1.var(ddof=1) + X2.var(ddof=1))/2)\n",
        "t_U = (X1.mean()-X2.mean())/(Sp*np.sqrt(2/N))\n",
        "\n",
        "# The p-value is the probabilty of obtaining the t-statistic under the null hypothesis; that is, 1 minus the cdf of the t-distribution, given n-1 degrees of freedom (multiplied by two because we are looking at two symmetric tails)\n",
        "p_U = 2.*(1-st.t.cdf(abs(t_U), 2*N-2))\n",
        "\n",
        "# Compare to what we get from ttest (use ttest_ind for two independent samples)\n",
        "tstat, pval = st.ttest_ind(X1, X2)\n",
        "\n",
        "print(f't = {t_U:.4f} (computed) {tstat:.4f} (python function)')\n",
        "print(f'p = {p_U:.4f} (computed) {pval:.4f} (python function)')"
      ]
    },
    {
      "cell_type": "markdown",
      "metadata": {
        "id": "UqoNXyuxP-go"
      },
      "source": [
        "# Additional Resources\n"
      ]
    },
    {
      "cell_type": "markdown",
      "metadata": {
        "id": "tteEm2Qlgbb3"
      },
      "source": [
        "# Credits\n",
        "\n",
        "Copyright 2021 by Joshua I. Gold, University of Pennsylvania"
      ]
    }
  ],
  "metadata": {
    "colab": {
      "collapsed_sections": [
        "pKIiY6p3GRFq",
        "To3hA26GKjv0",
        "k_iBh6ZsLnX7"
      ],
      "name": "t-Tests",
      "provenance": []
    },
    "kernelspec": {
      "display_name": "Python 3.9.6 64-bit",
      "language": "python",
      "name": "python3"
    },
    "language_info": {
      "name": "python",
      "version": "3.9.6"
    },
    "vscode": {
      "interpreter": {
        "hash": "aee8b7b246df8f9039afb4144a1f6fd8d2ca17a180786b69acc140d282b71a49"
      }
    }
  },
  "nbformat": 4,
  "nbformat_minor": 0
}